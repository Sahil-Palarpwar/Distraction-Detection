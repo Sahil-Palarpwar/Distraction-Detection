{
 "cells": [
  {
   "cell_type": "code",
   "execution_count": 1,
   "metadata": {},
   "outputs": [],
   "source": [
    "from scipy.spatial import distance as dist\n",
    "from imutils import face_utils\n",
    "from threading import Thread\n",
    "import numpy as np\n",
    "import playsound\n",
    "import imutils\n",
    "import dlib\n",
    "import cv2"
   ]
  },
  {
   "cell_type": "code",
   "execution_count": 2,
   "metadata": {},
   "outputs": [],
   "source": [
    "def sound_alarm():\n",
    "    #play an alarm sound\n",
    "    playsound.playsound(\"analog-watch-alarm.wav\")"
   ]
  },
  {
   "cell_type": "code",
   "execution_count": 3,
   "metadata": {},
   "outputs": [],
   "source": [
    "#threshold euclidian distance between the farthest point of jaw and the mouth of either side of face\n",
    "MOUTH_JAW_THRESH = 45.0\n",
    "#number of consecutive frames\n",
    "MOUTH_JAW_CONSEC_FRAMES = 10\n",
    "# initialize the frame counter as well as a boolean used to\n",
    "# indicate if the alarm is going off\n",
    "COUNTER1 = 0\n",
    "ALARM_ON = False"
   ]
  },
  {
   "cell_type": "code",
   "execution_count": 4,
   "metadata": {},
   "outputs": [],
   "source": [
    "# initialize dlib's face detector (HOG-based) and then create\n",
    "# the facial landmark predictor\n",
    "detector = dlib.get_frontal_face_detector()\n",
    "predictor = dlib.shape_predictor(\"C:/Users/SAHIL/shape_predictor_68_face_landmarks.dat\")"
   ]
  },
  {
   "cell_type": "code",
   "execution_count": 5,
   "metadata": {},
   "outputs": [],
   "source": [
    "# grab the indexes of the facial landmarks for the mouth and jaw respectively\n",
    "(mStart, mEnd) = face_utils.FACIAL_LANDMARKS_IDXS[\"mouth\"]\n",
    "(jStart, jEnd) = face_utils.FACIAL_LANDMARKS_IDXS[\"jaw\"]"
   ]
  },
  {
   "cell_type": "code",
   "execution_count": 6,
   "metadata": {},
   "outputs": [],
   "source": [
    "# start the video stream thread\n",
    "cap = cv2.VideoCapture('1234.mp4')\n",
    "    \n",
    "if (cap.isOpened()== False):  \n",
    "    print(\"Error opening video  file\")    \n",
    "\n",
    "# Read until video is completed \n",
    "while(cap.isOpened()): \n",
    "      \n",
    "    #Capture frame-by-frame \n",
    "    ret, frame = cap.read() \n",
    "    \n",
    "    if frame is None:\n",
    "        break\n",
    "     \n",
    "    if ret == True:\n",
    "        \n",
    "        frame = imutils.resize(frame, width=450)\n",
    "        gray  = cv2.cvtColor(frame, cv2.COLOR_BGR2GRAY)\n",
    "\n",
    "        rects = detector(gray,0)\n",
    "\n",
    "            # loop over the face detections\n",
    "        for rect in rects:\n",
    "            \n",
    "                # determine the facial landmarks for the face region, then convert the facial landmark (x, y)-coordinates to a NumPy array\n",
    "\n",
    "                shape = predictor(gray, rect)\n",
    "                shape = face_utils.shape_to_np(shape)\n",
    "                \n",
    "                #extract coordinates of mouth and jaw\n",
    "                \n",
    "                mouth = shape[mStart:mEnd]\n",
    "                jaw = shape[jStart:jEnd]\n",
    "                \n",
    "                #Left side and right side distance from eachother\n",
    "                \n",
    "                ldist = dist.euclidean(mouth[0], jaw[3])\n",
    "                rdist = dist.euclidean(mouth[6], jaw[13])\n",
    "            \n",
    "                if (ldist < MOUTH_JAW_THRESH) or (rdist < MOUTH_JAW_THRESH) :\n",
    "                    COUNTER1 += 1\n",
    "                    if COUNTER1 >= MOUTH_JAW_CONSEC_FRAMES:\n",
    "\n",
    "                        if not ALARM_ON:\n",
    "                            ALARM_ON = True\n",
    "                            t1 = Thread(target = sound_alarm())\n",
    "                            t1.deamon = True\n",
    "                            t1.start()\n",
    "                        # draw an alarm on the frame\n",
    "                        cv2.putText(frame, \"DISTRACTION ALERT!\", (100, 300),\n",
    "                        cv2.FONT_HERSHEY_SIMPLEX, 0.7, (0, 0, 255), 2)\n",
    "\n",
    "                else:\n",
    "                    COUNTER1 = 0\n",
    "                    ALARM_ON = False\n",
    "                #show mouth jaw distance on the frame run-time \n",
    "                cv2.putText(frame, \"LMJD: {:.2f}\".format(ldist), (0,30),cv2.FONT_HERSHEY_SIMPLEX, 0.5, (255,0,0), 2 )\n",
    "                cv2.putText(frame, \"RMJD: {:.2f}\".format(rdist), (0,60),cv2.FONT_HERSHEY_SIMPLEX, 0.5, (255,0,0), 2 )\n",
    "            # show the frame\n",
    "        cv2.imshow(\"frame\", frame)\n",
    "        \n",
    "        \n",
    "        key = cv2.waitKey(1) & 0xFF\n",
    "\n",
    "        # if the `q` key was pressed, break from the loop\n",
    "        if key == ord(\"q\"):\n",
    "            break\n",
    "            \n",
    "    else:\n",
    "        break\n",
    "            \n",
    "# When everything done, release the video capture object\n",
    "cap.release()\n",
    " \n",
    "# Closes all the frames\n",
    "cv2.destroyAllWindows()   "
   ]
  },
  {
   "cell_type": "code",
   "execution_count": null,
   "metadata": {},
   "outputs": [],
   "source": []
  }
 ],
 "metadata": {
  "kernelspec": {
   "display_name": "Python 3",
   "language": "python",
   "name": "python3"
  },
  "language_info": {
   "codemirror_mode": {
    "name": "ipython",
    "version": 3
   },
   "file_extension": ".py",
   "mimetype": "text/x-python",
   "name": "python",
   "nbconvert_exporter": "python",
   "pygments_lexer": "ipython3",
   "version": "3.8.3"
  }
 },
 "nbformat": 4,
 "nbformat_minor": 2
}
